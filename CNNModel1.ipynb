{
  "cells": [
    {
      "cell_type": "code",
      "execution_count": null,
      "metadata": {
        "colab": {
          "base_uri": "https://localhost:8080/",
          "height": 80
        },
        "colab_type": "code",
        "id": "P5xV0QEpdUfp",
        "outputId": "79a92814-2efa-4940-806a-d79a70176d9c"
      },
      "outputs": [],
      "source": [
        "#importing the libraries\n",
        "\n",
        "from keras.preprocessing.image import ImageDataGenerator\n",
        "from keras.models import Model, Sequential #creating the architecture for the CNN\n",
        "from keras.layers import Dense, Conv2D, Flatten #creating layers for the model\n",
        "import numpy as np\n",
        "import os #to access the data stored in the computer\n",
        "from PIL import Image, ImageFile\n",
        "ImageFile.LOAD_TRUNCATED_IMAGES = True\n"
      ]
    },
    {
      "cell_type": "code",
      "execution_count": null,
      "metadata": {
        "colab": {
          "base_uri": "https://localhost:8080/",
          "height": 122
        },
        "colab_type": "code",
        "id": "mz3kDi-i_sH9",
        "outputId": "f902b74a-0525-44ab-fea3-9cc77450bfad"
      },
      "outputs": [],
      "source": [
        "#loading the dataset from Google Drive\n",
        "from google.colab import drive\n",
        "drive .mount('/content/drive')"
      ]
    },
    {
      "cell_type": "code",
      "execution_count": null,
      "metadata": {
        "colab": {
          "base_uri": "https://localhost:8080/",
          "height": 238
        },
        "colab_type": "code",
        "id": "ePIinWPbbLla",
        "outputId": "2e888036-0491-4d04-9ef7-a9b6f6bb88a7"
      },
      "outputs": [],
      "source": [
        "#Designing compiling the CNN model\n",
        "model=Sequential()\n",
        "model.add(Conv2D(32, kernel_size=3, activation='relu', input_shape=(300,300,3))) #input layer\n",
        "model.add(Conv2D(32, kernel_size=3, activation='relu')) #this is a convolution layer\n",
        "model.add(Conv2D(64, kernel_size=3, activation='relu')) #this is another convolution layer\n",
        "model.add(Conv2D(64, kernel_size=3, activation='relu')) #this is another convolution layer\n",
        "model.add(Flatten()) #converts into 1-D array i.e. flattens\n",
        "model.add(Dense(1,activation='sigmoid')) #1 neurons. 2 diferent labels (Fake or Live)\n",
        "model.compile(loss='binary_crossentropy',optimizer='adam',metrics=['accuracy']) #compiling the  model\n"
      ]
    },
    {
      "cell_type": "code",
      "execution_count": null,
      "metadata": {
        "colab": {
          "base_uri": "https://localhost:8080/",
          "height": 51
        },
        "colab_type": "code",
        "id": "7hznl1lIbSYf",
        "outputId": "97de286a-8909-44c4-81fd-59d594faa189"
      },
      "outputs": [
        {
          "name": "stdout",
          "output_type": "stream",
          "text": [
            "Found 38 images belonging to 2 classes.\n",
            "Found 60 images belonging to 2 classes.\n"
          ]
        }
      ],
      "source": [
        "#loading and classifying data into train and test sets\n",
        "train_datagen=ImageDataGenerator(rescale=-1./255,shear_range=0.1,zoom_range=0.2,horizontal_flip=False)\n",
        "test_datagen=ImageDataGenerator(rescale=1./255)\n",
        "train_set=train_datagen.flow_from_directory(\"/content/drive/My Drive/Deep Learning IITI/Fingerprint/train\",target_size=(300,300),batch_size=16,class_mode='binary')\n",
        "test_set=test_datagen.flow_from_directory(\"/content/drive/My Drive/Deep Learning IITI/Fingerprint/test\",target_size=(300,300),batch_size=16,class_mode='binary')"
      ]
    },
    {
      "cell_type": "code",
      "execution_count": null,
      "metadata": {
        "colab": {
          "base_uri": "https://localhost:8080/",
          "height": 51
        },
        "colab_type": "code",
        "id": "iFGrslr3G5Ey",
        "outputId": "b2a194b8-be6c-44f2-9db7-8e5e46e10136"
      },
      "outputs": [
        {
          "name": "stdout",
          "output_type": "stream",
          "text": [
            "Found 5660 images belonging to 2 classes.\n",
            "Found 7958 images belonging to 2 classes.\n"
          ]
        }
      ],
      "source": [
        "train_datagen=ImageDataGenerator(rescale=-1./255,shear_range=0.1,zoom_range=0.2,horizontal_flip=False)\n",
        "test_datagen=ImageDataGenerator(rescale=1./255)\n",
        "train_set=train_datagen.flow_from_directory(\"/content/drive/My Drive/MODEL1/Train\",target_size=(300,300),batch_size=16,class_mode='binary')\n",
        "test_set=test_datagen.flow_from_directory(\"/content/drive/My Drive/MODEL1/Test\",target_size=(300,300),batch_size=16,class_mode='binary')"
      ]
    },
    {
      "cell_type": "code",
      "execution_count": null,
      "metadata": {
        "colab": {
          "base_uri": "https://localhost:8080/",
          "height": 391
        },
        "colab_type": "code",
        "id": "cH25BfRCDc7K",
        "outputId": "6f455bf5-13a8-4feb-e7fe-d65b740abc95"
      },
      "outputs": [],
      "source": [
        "#Fitting the model\n",
        "model.fit_generator(train_set,steps_per_epoch=25,epochs=3,validation_data=test_set,validation_steps=2)\n",
        "model.save_weights('hi.h5')  # to save weights after training"
      ]
    }
  ],
  "metadata": {
    "colab": {
      "name": "CNNModel1.ipynb",
      "provenance": []
    },
    "kernelspec": {
      "display_name": "Python 3",
      "name": "python3"
    }
  },
  "nbformat": 4,
  "nbformat_minor": 0
}
